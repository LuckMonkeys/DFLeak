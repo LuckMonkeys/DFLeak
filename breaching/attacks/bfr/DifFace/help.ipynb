{
 "cells": [
  {
   "cell_type": "code",
   "execution_count": 2,
   "metadata": {},
   "outputs": [],
   "source": [
    "#move image to target folder\n",
    "from glob import glob\n",
    "import os\n",
    "dir = \"/home/zx/DifFace-master/results/celebahq_2/restored_faces\"\n",
    "imgs = glob(dir+\"/*.png\")\n",
    "from shutil import copyfile, move\n",
    "for img_path in imgs:\n",
    "    sub_dir = os.path.splitext(os.path.basename(img_path))[0]\n",
    "    os.mkdir(os.path.join(dir,sub_dir))\n",
    "    # print(sub_dir)\n",
    "    target_path = os.path.join(dir,sub_dir,\"0.png\")\n",
    "    move(img_path,target_path)\n",
    "\n",
    "\n",
    "\n"
   ]
  }
 ],
 "metadata": {
  "kernelspec": {
   "display_name": "torch1.8.1",
   "language": "python",
   "name": "python3"
  },
  "language_info": {
   "codemirror_mode": {
    "name": "ipython",
    "version": 3
   },
   "file_extension": ".py",
   "mimetype": "text/x-python",
   "name": "python",
   "nbconvert_exporter": "python",
   "pygments_lexer": "ipython3",
   "version": "3.8.8"
  },
  "orig_nbformat": 4,
  "vscode": {
   "interpreter": {
    "hash": "a8e974707660cda4e0017ab7e15fe17d575de03ed2140a3b4a6f37b86a6a288c"
   }
  }
 },
 "nbformat": 4,
 "nbformat_minor": 2
}
